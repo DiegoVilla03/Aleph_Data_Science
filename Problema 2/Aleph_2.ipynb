{
 "cells": [
  {
   "cell_type": "markdown",
   "metadata": {},
   "source": [
    "# **Arreglos**\n",
    "\n",
    "En este ejercicio de manejo de arreglos y de estructuras básicas de programación, se quieren lograr los cinco pasos enumerados a continuación:\n",
    "1. Crear una matriz inicial, A, de tamaño 10x10 (o algún otro entero n>=10) que tiene números enteros cualesquiera entre el 1 y el 100. Estos números se pueden repetir. \n",
    "2. La matriz A que has creado no puede contener ciertos números. Los valores prohibidos son: múltiplos de 5 y números primos. \n",
    "3. Además, en la matriz A se debe cumplir la siguiente condición: no puede haber valores contiguos que sumen un múltiplo de 10. No elimines manualmente los valores del inciso 2 y 3. Asignales un 0 mediante un proceso automático. \n",
    "4. Recorrer la matriz A; si sus números son menores a 50 (o algún valor de referencia m), entonces escribirlos en un nuevo arreglo B. En caso contrario, ubicarlos en otro arreglo nuevo, C. \n",
    "5. Ordenar B y C de menor a mayor. Recuerda que el rango de valores es entre 1 y 100 (no debe haber ceros en B y en C, aunque sí los haya en A después de tus modificaciones). "
   ]
  },
  {
   "cell_type": "code",
   "execution_count": 22,
   "metadata": {},
   "outputs": [],
   "source": [
    "import numpy as np"
   ]
  },
  {
   "cell_type": "markdown",
   "metadata": {},
   "source": [
    "Creamos la matriz de tamaño n >=10"
   ]
  },
  {
   "cell_type": "code",
   "execution_count": 23,
   "metadata": {},
   "outputs": [
    {
     "name": "stdout",
     "output_type": "stream",
     "text": [
      "[[44 99 34 38 36 72 32  3 50 27]\n",
      " [90 77 82 22 43  6 88  7 35 26]\n",
      " [61 41 54 58 27 96 77 64 94 89]\n",
      " [65  8 24 37 54  5 73 46 99 32]\n",
      " [14 53 51 80 53 58 93 62  6 42]\n",
      " [ 5 99  9 43  6  1  4 80 40 33]\n",
      " [95 42 38 25 50 48 60 41 79  5]\n",
      " [ 3 87 18 47 26 39 78 49 23 24]\n",
      " [35 46 70 98  7 63  4 97 35 90]\n",
      " [71 20 19 44 68  3 41 62 43 57]]\n"
     ]
    }
   ],
   "source": [
    "n = 10\n",
    "A = np.random.randint(1, 101, size=(n, n))\n",
    "print(A)"
   ]
  },
  {
   "cell_type": "markdown",
   "metadata": {},
   "source": [
    "Ahora modificamos la matriz"
   ]
  },
  {
   "cell_type": "markdown",
   "metadata": {},
   "source": [
    "Por definicion un número es primo si y solo si es divisible entre 1 y si mismo, bajo esta definición el 1 no se considera un número primo dado que solo tiene un solo divisor el mismo, hago esta aclaración dada la ambiguedad matematica que esto pueda representar para fines practicos del algoritmo"
   ]
  },
  {
   "cell_type": "code",
   "execution_count": 24,
   "metadata": {},
   "outputs": [],
   "source": [
    "def es_primo(n):\n",
    "    if n <= 1:\n",
    "        return False\n",
    "    if n <= 3:\n",
    "        return True\n",
    "    if n % 2 == 0 or n % 3 == 0:\n",
    "        return False\n",
    "    i = 5\n",
    "    while i * i <= n:\n",
    "        if n % i == 0 or n % (i + 2) == 0:\n",
    "            return False\n",
    "        i += 6\n",
    "    return True"
   ]
  },
  {
   "cell_type": "markdown",
   "metadata": {},
   "source": [
    "Una vez creada la función creamos un bucle que recorra la matriz completa primero cambiando los numeros primos y los multiplos de 5, para posteriormente recorrer el renglon verificando suma de contiguos multiplos de 10, el orden se debe a que garanatiza que posteriormente a los cambios realizados la matriz no tenga ningun valor prohibido"
   ]
  },
  {
   "cell_type": "code",
   "execution_count": 25,
   "metadata": {},
   "outputs": [
    {
     "name": "stdout",
     "output_type": "stream",
     "text": [
      "[[44 99 34 38 36 72 32 -1 -1 27]\n",
      " [-1 77 82 22 -1  6 88 -1 -1 26]\n",
      " [-1 -1 54 58 27 96 77 64 94 -1]\n",
      " [-1  8 24 -1 54 -1 -1 46 99 32]\n",
      " [14 -1 -1 -1 -1 58 93 62  6 42]\n",
      " [-1 99  9 -1  6  1  4 -1 -1 33]\n",
      " [-1 -1 -1 -1 -1 48 -1 -1 -1 -1]\n",
      " [-1 87 18 -1 26 39 78 49 -1 24]\n",
      " [-1 46 -1 98 -1 63  4 -1 -1 -1]\n",
      " [-1 -1 -1 44 68 -1 -1 62 -1 57]]\n"
     ]
    }
   ],
   "source": [
    "for i in range(A.shape[0]):\n",
    "    for j in range(A.shape[1]):\n",
    "        if A[i, j] % 5 == 0 or es_primo(A[i, j]):\n",
    "            A[i, j] = -1\n",
    "    for k in range(A.shape[1]-1):\n",
    "        if (A[i , k] + A[i, k + 1]) % 10 == 0:\n",
    "            A[i, k] = -1\n",
    "            A[i, k+1] = -1\n",
    "\n",
    "print(A)"
   ]
  },
  {
   "cell_type": "code",
   "execution_count": 26,
   "metadata": {},
   "outputs": [
    {
     "name": "stdout",
     "output_type": "stream",
     "text": [
      "[ 1  4  4  6  6  6  8  9 14 18 22 24 24 26 26 27 27 32 32 33 34 36 38 39\n",
      " 42 44 44 46 46 48 49]\n",
      "[54 54 57 58 58 62 62 63 64 68 72 77 77 78 82 87 88 93 94 96 98 99 99 99]\n"
     ]
    }
   ],
   "source": [
    "m = 50\n",
    "B = A[np.logical_and(A < m, A > 0)]\n",
    "C = A[A >= m]\n",
    "B.sort()\n",
    "C.sort()\n",
    "\n",
    "print(B)\n",
    "print(C)"
   ]
  }
 ],
 "metadata": {
  "kernelspec": {
   "display_name": "Python 3",
   "language": "python",
   "name": "python3"
  },
  "language_info": {
   "codemirror_mode": {
    "name": "ipython",
    "version": 3
   },
   "file_extension": ".py",
   "mimetype": "text/x-python",
   "name": "python",
   "nbconvert_exporter": "python",
   "pygments_lexer": "ipython3",
   "version": "3.11.2"
  }
 },
 "nbformat": 4,
 "nbformat_minor": 2
}
